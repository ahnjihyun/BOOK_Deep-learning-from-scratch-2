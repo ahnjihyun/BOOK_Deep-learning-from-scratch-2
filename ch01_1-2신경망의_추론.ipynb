{
  "nbformat": 4,
  "nbformat_minor": 0,
  "metadata": {
    "colab": {
      "name": "ch01-1.2 신경망의 추론.ipynb",
      "provenance": [],
      "include_colab_link": true
    },
    "kernelspec": {
      "name": "python3",
      "display_name": "Python 3"
    },
    "language_info": {
      "name": "python"
    }
  },
  "cells": [
    {
      "cell_type": "markdown",
      "metadata": {
        "id": "view-in-github",
        "colab_type": "text"
      },
      "source": [
        "<a href=\"https://colab.research.google.com/github/ahnjihyun/BOOK_Deep-learning-from-scratch-2/blob/main/ch01_1-2%EC%8B%A0%EA%B2%BD%EB%A7%9D%EC%9D%98_%EC%B6%94%EB%A1%A0.ipynb\" target=\"_parent\"><img src=\"https://colab.research.google.com/assets/colab-badge.svg\" alt=\"Open In Colab\"/></a>"
      ]
    },
    {
      "cell_type": "markdown",
      "source": [
        "### 1.2 신경망의 추론 \n"
      ],
      "metadata": {
        "id": "wS4_FfYH5xC_"
      }
    },
    {
      "cell_type": "markdown",
      "source": [
        "(p34, 35)"
      ],
      "metadata": {
        "id": "3pnPBkxo7FVa"
      }
    },
    {
      "cell_type": "code",
      "execution_count": null,
      "metadata": {
        "colab": {
          "base_uri": "https://localhost:8080/"
        },
        "id": "KJ5Kkbv638iY",
        "outputId": "29183cc2-2083-4f04-bdb2-11f0241cbc16"
      },
      "outputs": [
        {
          "output_type": "stream",
          "name": "stdout",
          "text": [
            "[[2.56722803 0.46903913 3.55262971]\n",
            " [1.71930537 0.76584932 2.88728482]\n",
            " [2.8501313  0.15300436 2.44605562]\n",
            " [2.33656261 0.19365464 1.14602745]\n",
            " [1.79647008 0.40850689 1.09335386]\n",
            " [0.9921855  0.81128525 2.0492017 ]\n",
            " [2.55320102 0.23185988 1.71424381]\n",
            " [2.80409934 0.06882277 2.58822287]\n",
            " [2.46617309 0.16240539 1.25000446]\n",
            " [1.37243137 0.58505727 1.26093413]]\n"
          ]
        }
      ],
      "source": [
        "import numpy as np \n",
        "\n",
        "def sigmoid(x):\n",
        "  return 1 / (1+ np.exp(-x))\n",
        "\n",
        "x = np.random.randn(10,2) # 입력층 \n",
        "W1 = np.random.randn(2,4) # 가중치\n",
        "b1 = np.random.randn(4) # 편향 -> (10,4)로 브로드캐스트 됨\n",
        "W2 = np.random.randn(4,3)\n",
        "b2 = np.random.randn(3) # -> (10,3)으로 브로드캐스트\n",
        "\n",
        "h = np.matmul(x,W1) + b1\n",
        "a = sigmoid(h) # 비선형성 부여\n",
        "s = np.matmul(a,W2) + b2\n",
        "\n",
        "print(s)"
      ]
    },
    {
      "cell_type": "markdown",
      "source": [
        "---"
      ],
      "metadata": {
        "id": "lN06c4cGD01e"
      }
    },
    {
      "cell_type": "markdown",
      "source": [
        "##### (p35) 1.2.2 계층(Layer)으로 클래스화 및 순전파 구현"
      ],
      "metadata": {
        "id": "Hwu7RhfH7SUJ"
      }
    },
    {
      "cell_type": "code",
      "source": [
        "import numpy as np \n",
        "\n",
        "class Sigmoid:\n",
        "  def __init__(self):\n",
        "    self.params = [] # 시그모이드 계층에는 학습하는 매개변수가 없으므로 인스턴스 변수인 params를 빈 리스트로 초기화 시킴\n",
        "\n",
        "  def forward(self,x):\n",
        "    return 1 / (1 + np.exp(-x))\n",
        "\n",
        "class Affine:\n",
        "  def __init__(self, W, b): # 초기화 시 가중치와 편향을 갱신\n",
        "    self.params = [W, b]\n",
        "\n",
        "  def forward(self,x): # 순전파 처리 구현\n",
        "    W, b = self.params\n",
        "    out = np.matmul(x,W) + b\n",
        "    return out"
      ],
      "metadata": {
        "id": "ISuGFZGN7SDW"
      },
      "execution_count": null,
      "outputs": []
    },
    {
      "cell_type": "markdown",
      "source": [
        "##### (p38) TwoLayerNet 구현"
      ],
      "metadata": {
        "id": "b_ACZOa58ndG"
      }
    },
    {
      "cell_type": "code",
      "source": [
        "class TwoLayerNet:\n",
        "  def __init__(self, input_size, hidden_size, output_size): ## 이 클래스의 초기화 메서드\n",
        "    I, H, O = input_size, hidden_size, output_size\n",
        "\n",
        "    # 가중치와 편향 초기화\n",
        "    W = np.random.randn(I,H)\n",
        "    b1 = np.random.randn(H)\n",
        "    W2 = np.random.randn(H,O)\n",
        "    b2 = np.random.randn(O)\n",
        "\n",
        "    # 3개의 계층을 생성\n",
        "    self.layers = [\n",
        "      Affine(W1,b1),\n",
        "      Sigmoid(),\n",
        "      Affine(W2,b2)\n",
        "    ]\n",
        "\n",
        "    # 학습할 모든 가중치를 리스트에 모음\n",
        "    self.params = []\n",
        "    for layer in self.layers:\n",
        "      self.params += layer.params\n",
        "\n",
        "  def predict(self,x):\n",
        "    for layer in self.layers:\n",
        "      x = layer.forward(x)\n",
        "    return x\n",
        "\n",
        "# ========\n",
        "\n",
        "x = np.random.randn(10,2)\n",
        "model = TwoLayerNet(2,4,3) # input_size, hidden_size, output_size\n",
        "s = model.predict(x)\n",
        "\n",
        "print(s)"
      ],
      "metadata": {
        "colab": {
          "base_uri": "https://localhost:8080/"
        },
        "id": "V2T3JaGr8u31",
        "outputId": "f8f92350-4333-41a9-af8f-0836def4533b"
      },
      "execution_count": null,
      "outputs": [
        {
          "output_type": "stream",
          "name": "stdout",
          "text": [
            "[[-0.28036537 -1.34207529 -0.02183931]\n",
            " [-1.30260286  0.01570365 -0.12240654]\n",
            " [-0.79582378 -0.83296787  0.07578486]\n",
            " [ 0.17978628 -1.63649671 -0.2397919 ]\n",
            " [-0.99114781 -0.66123588 -0.06166759]\n",
            " [-1.42687044  0.2460102  -0.11836428]\n",
            " [-0.40412896 -1.20974711  0.0252977 ]\n",
            " [-0.82305686 -0.75133809  0.06058774]\n",
            " [-0.51939592 -1.12178106 -0.10947325]\n",
            " [-0.47565566 -0.83960543  0.18803257]]\n"
          ]
        }
      ]
    },
    {
      "cell_type": "code",
      "source": [
        "# 참고 : 파이썬에서 '+' 연산자는 리스트들을 결합해준다\n",
        "a = ['A','B']\n",
        "a += ['C','D']\n",
        "print(a)"
      ],
      "metadata": {
        "colab": {
          "base_uri": "https://localhost:8080/"
        },
        "id": "ufUqEerz_cq-",
        "outputId": "203e19d7-fa7a-40ce-bb64-565618c89203"
      },
      "execution_count": null,
      "outputs": [
        {
          "output_type": "stream",
          "name": "stdout",
          "text": [
            "['A', 'B', 'C', 'D']\n"
          ]
        }
      ]
    }
  ]
}