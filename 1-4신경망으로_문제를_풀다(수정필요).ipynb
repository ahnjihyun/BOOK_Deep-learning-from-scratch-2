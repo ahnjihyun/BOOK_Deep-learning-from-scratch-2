{
  "nbformat": 4,
  "nbformat_minor": 0,
  "metadata": {
    "colab": {
      "name": "1-4신경망으로 문제를 풀다.ipynb",
      "private_outputs": true,
      "provenance": [],
      "authorship_tag": "ABX9TyPkbLQGDkXuSWKDtZ6RmnOo",
      "include_colab_link": true
    },
    "kernelspec": {
      "name": "python3",
      "display_name": "Python 3"
    },
    "language_info": {
      "name": "python"
    }
  },
  "cells": [
    {
      "cell_type": "markdown",
      "metadata": {
        "id": "view-in-github",
        "colab_type": "text"
      },
      "source": [
        "<a href=\"https://colab.research.google.com/github/ahnjihyun/BOOK_Deep-learning-from-scratch-2/blob/main/1-4%EC%8B%A0%EA%B2%BD%EB%A7%9D%EC%9C%BC%EB%A1%9C_%EB%AC%B8%EC%A0%9C%EB%A5%BC_%ED%92%80%EB%8B%A4(%EC%88%98%EC%A0%95%ED%95%84%EC%9A%94).ipynb\" target=\"_parent\"><img src=\"https://colab.research.google.com/assets/colab-badge.svg\" alt=\"Open In Colab\"/></a>"
      ]
    },
    {
      "cell_type": "markdown",
      "source": [
        "### (p62~) 1.4 신경망으로 문제를 풀다\n",
        "\n",
        "\n",
        "##### 1.4.1 스파이럴(spiral: 나선형의) 데이터셋"
      ],
      "metadata": {
        "id": "kmvd3K3Dp9mj"
      }
    },
    {
      "cell_type": "code",
      "execution_count": null,
      "metadata": {
        "id": "quaxvAV7p3GX"
      },
      "outputs": [],
      "source": [
        "# https://github.com/WegraLee/deep-learning-from-scratch-2/blob/master/dataset/spiral.py\n",
        "# coding: utf-8\n",
        "import numpy as np\n",
        "\n",
        "\n",
        "def load_data(seed=1984):\n",
        "    np.random.seed(seed)\n",
        "    N = 100  # 클래스당 샘플 수\n",
        "    DIM = 2  # 데어터 요소 수\n",
        "    CLS_NUM = 3  # 클래스 수\n",
        "\n",
        "    x = np.zeros((N*CLS_NUM, DIM))\n",
        "    t = np.zeros((N*CLS_NUM, CLS_NUM), dtype=np.int)\n",
        "\n",
        "    for j in range(CLS_NUM):\n",
        "        for i in range(N): # N*j, N*(j+1)):\n",
        "            rate = i / N\n",
        "            radius = 1.0*rate\n",
        "            theta = j*4.0 + 4.0*rate + np.random.randn()*0.2\n",
        "\n",
        "            ix = N*j + i\n",
        "            x[ix] = np.array([radius*np.sin(theta),\n",
        "                              radius*np.cos(theta)]).flatten()\n",
        "            t[ix, j] = 1\n",
        "\n",
        "    return x, t"
      ]
    },
    {
      "cell_type": "code",
      "source": [
        "import sys \n",
        "import matplotlib.pyplot as plt\n",
        "\n",
        "x,t = load_data()\n",
        "print('x', x.shape) # 입력 데이터, 2차원\n",
        "print('t', t.shape) # 정답 레이블, 3차원, 원핫 벡터(정답만 1, 나머진 0)"
      ],
      "metadata": {
        "id": "T12BmhM7qCrd"
      },
      "execution_count": null,
      "outputs": []
    },
    {
      "cell_type": "code",
      "source": [
        "plt.plot(x)\n",
        "plt.show()"
      ],
      "metadata": {
        "id": "jcbf9b2NqCo8"
      },
      "execution_count": null,
      "outputs": []
    }
  ]
}